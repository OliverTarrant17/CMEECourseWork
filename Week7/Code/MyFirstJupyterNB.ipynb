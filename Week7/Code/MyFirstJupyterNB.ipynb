{
 "cells": [
  {
   "cell_type": "markdown",
   "metadata": {
    "collapsed": true
   },
   "source": [
    "# My First Jupyter NB\n",
    "## Add a sub heading \n",
    "And now some text\n"
   ]
  },
  {
   "cell_type": "code",
   "execution_count": 3,
   "metadata": {},
   "outputs": [
    {
     "name": "stdout",
     "output_type": "stream",
     "text": [
      "4\n"
     ]
    }
   ],
   "source": [
    "# My first code\n",
    "A=2+2\n",
    "print(A)\n"
   ]
  },
  {
   "cell_type": "code",
   "execution_count": 1,
   "metadata": {},
   "outputs": [
    {
     "name": "stdout",
     "output_type": "stream",
     "text": [
      "this is python\n"
     ]
    }
   ],
   "source": [
    "a = \"this is python\"; print(a)"
   ]
  },
  {
   "cell_type": "code",
   "execution_count": 1,
   "metadata": {},
   "outputs": [
    {
     "name": "stdout",
     "output_type": "stream",
     "text": [
      "this is R!"
     ]
    }
   ],
   "source": [
    "a<- \"this is R!\"; cat(a)"
   ]
  },
  {
   "cell_type": "markdown",
   "metadata": {
    "collapsed": true
   },
   "source": [
    "**My first python graphic**\n"
   ]
  },
  {
   "cell_type": "code",
   "execution_count": 1,
   "metadata": {},
   "outputs": [
    {
     "data": {
      "image/png": "[encoded data removed]",
      "text/plain": [
       "<matplotlib.figure.Figure at 0x7feeac1af9e8>"
      ]
     },
     "metadata": {},
     "output_type": "display_data"
    }
   ],
   "source": [
    "import matplotlib.pyplot as p\n",
    "import scipy as sc\n",
    "\n",
    "x = sc.arange(0,5,0.1); y = sc.sin(x)\n",
    "p.plot(x,y); p.show()"
   ]
  },
  {
   "cell_type": "markdown",
   "metadata": {},
   "source": [
    "**My first R graphic**"
   ]
  },
  {
   "cell_type": "code",
   "execution_count": 1,
   "metadata": {},
   "outputs": [
    {
     "name": "stderr",
     "output_type": "stream",
     "text": [
      "Loading required package: ggplot2\n"
     ]
    },
    {
     "data": {},
     "metadata": {},
     "output_type": "display_data"
    },
    {
     "data": {
      "image/png": "[encoded data removed]",
      "text/plain": [
       "plot without title"
      ]
     },
     "metadata": {},
     "output_type": "display_data"
    }
   ],
   "source": [
    "require(ggplot2)\n",
    "library(repr) # to resize plot within jupyter - this package is part of IRkernal\n",
    "options(repr.plot.width=3.5,repr.plot.height=3)\n",
    "\n",
    "x<-seq(0,5,0.1); y<-sin(x)\n",
    "qplot(x,y,geom =\"line\") #large figure"
   ]
  },
  {
   "cell_type": "code",
   "execution_count": 2,
   "metadata": {
    "collapsed": true
   },
   "outputs": [],
   "source": [
    "%matplotlib inline\n",
    "from sympy import * # for symbolic analysis\n",
    "import scipy as sc # for numerical analysis\n",
    "import matplotlib.pyplot as plt # for plotting\n",
    "init_printing() # To get nice latex-formatted output"
   ]
  },
  {
   "cell_type": "code",
   "execution_count": 3,
   "metadata": {},
   "outputs": [
    {
     "data": {
      "text/plain": [
       "sympy.core.symbol.Symbol"
      ]
     },
     "execution_count": 3,
     "metadata": {},
     "output_type": "execute_result"
    }
   ],
   "source": [
    "x = var('x')\n",
    "type(x) # check it's class"
   ]
  },
  {
   "cell_type": "code",
   "execution_count": 4,
   "metadata": {},
   "outputs": [],
   "source": [
    "a, b, c = var(\"a,b,c\") # Define multiple variables all at once"
   ]
  },
  {
   "cell_type": "markdown",
   "metadata": {},
   "source": [
    "Can give variables constraints"
   ]
  },
  {
   "cell_type": "code",
   "execution_count": 6,
   "metadata": {},
   "outputs": [
    {
     "data": {
      "image/png": "[encoded data removed]",
      "text/latex": [
       "$$\\mathrm{True}$$"
      ],
      "text/plain": [
       "True"
      ]
     },
     "execution_count": 6,
     "metadata": {},
     "output_type": "execute_result"
    }
   ],
   "source": [
    "x= var('x',real=True)\n",
    "x = var('x', positive=True)\n",
    "# Checking\n",
    "x.is_imaginary\n"
   ]
  },
  {
   "cell_type": "code",
   "execution_count": 7,
   "metadata": {},
   "outputs": [
    {
     "data": {
      "image/png": "[encoded data removed]",
      "text/latex": [
       "$$\\mathrm{True}$$"
      ],
      "text/plain": [
       "True"
      ]
     },
     "execution_count": 7,
     "metadata": {},
     "output_type": "execute_result"
    }
   ],
   "source": [
    "x>0\n"
   ]
  },
  {
   "cell_type": "markdown",
   "metadata": {},
   "source": [
    "Can define symbolic equations to manipulate"
   ]
  },
  {
   "cell_type": "code",
   "execution_count": 20,
   "metadata": {},
   "outputs": [
    {
     "data": {
      "image/png": "[encoded data removed]",
      "text/latex": [
       "$$\\left(x + \\pi\\right)^{2}$$"
      ],
      "text/plain": [
       "       2\n",
       "(x + π) "
      ]
     },
     "execution_count": 20,
     "metadata": {},
     "output_type": "execute_result"
    }
   ],
   "source": [
    "MyFun = (pi + x)**2 ;MyFun"
   ]
  },
  {
   "cell_type": "code",
   "execution_count": 10,
   "metadata": {
    "scrolled": true
   },
   "outputs": [
    {
     "name": "stdout",
     "output_type": "stream",
     "text": [
      "\\left(x + \\pi\\right)^{2}\n"
     ]
    }
   ],
   "source": [
    "latex(MyFun)"
   ]
  },
  {
   "cell_type": "code",
   "execution_count": 11,
   "metadata": {},
   "outputs": [
    {
     "name": "stdout",
     "output_type": "stream",
     "text": [
      "\\left(x + \\pi\\right)^{2}\n"
     ]
    }
   ],
   "source": [
    "print(latex(MyFun))"
   ]
  },
  {
   "cell_type": "markdown",
   "metadata": {},
   "source": [
    "## Numerical evaluation\n",
    "Can use the evalf function or N"
   ]
  },
  {
   "cell_type": "markdown",
   "metadata": {},
   "source": [
    "CAS (computer algebra systems) features are used to produce pen on paper maths style manipulations if expression. Use sympy for this"
   ]
  },
  {
   "cell_type": "code",
   "execution_count": 15,
   "metadata": {},
   "outputs": [
    {
     "name": "stdout",
     "output_type": "stream",
     "text": [
      "3.141592653589793238462643383279502884197169399375105820974944592307816406286208998628034825342117068\n",
      "3.1415926535897932384626433832795028841971693993751\n",
      "(x + 3.1416)**2\n"
     ]
    }
   ],
   "source": [
    "print(pi.evalf(n=100)) # pi to 100 dp\n",
    "print(N(pi,50)) # pi to 50 dp\n",
    "print(N(MyFun,5))"
   ]
  },
  {
   "cell_type": "code",
   "execution_count": 16,
   "metadata": {},
   "outputs": [
    {
     "data": {
      "image/png": "[encoded data removed]",
      "text/latex": [
       "$$21.5443823618587$$"
      ],
      "text/plain": [
       "21.5443823618587"
      ]
     },
     "execution_count": 16,
     "metadata": {},
     "output_type": "execute_result"
    }
   ],
   "source": [
    "# Evaluate it for x = 1.5\n",
    "N(MyFun.subs(x,1.5))"
   ]
  },
  {
   "cell_type": "code",
   "execution_count": 21,
   "metadata": {},
   "outputs": [
    {
     "data": {
      "image/png": "[encoded data removed]",
      "text/latex": [
       "$$\\left(a + 6.28318530717959\\right)^{2}$$"
      ],
      "text/plain": [
       "                      2\n",
       "(a + 6.28318530717959) "
      ]
     },
     "execution_count": 21,
     "metadata": {},
     "output_type": "execute_result"
    }
   ],
   "source": [
    "N(MyFun.subs(x,a+pi))"
   ]
  },
  {
   "cell_type": "markdown",
   "metadata": {},
   "source": [
    "Assign to a new function and evaluate over a range of values"
   ]
  },
  {
   "cell_type": "code",
   "execution_count": 27,
   "metadata": {},
   "outputs": [],
   "source": [
    "MyFun_new = MyFun.subs(x,a+pi)\n",
    "x_vec = sc.arange(0,10,0.1)\n",
    "MyFun_vec =sc.array([N(((x+pi)**2).subs(x,xx)) for xx in x_vec]) # using a list comprehension"
   ]
  },
  {
   "cell_type": "code",
   "execution_count": 30,
   "metadata": {
    "scrolled": true
   },
   "outputs": [
    {
     "name": "stdout",
     "output_type": "stream",
     "text": [
      "[9.86960440108936 10.5079229318073 11.1662414625253 11.8445599932432\n",
      " 12.5428785239612 13.2611970546792 13.9995155853971 14.7578341161151\n",
      " 15.5361526468330 16.3344711775510 17.1527897082689 17.9911082389869\n",
      " 18.8494267697049 19.7277453004228 20.6260638311408 21.5443823618587\n",
      " 22.4827008925767 23.4410194232947 24.4193379540126 25.4176564847306\n",
      " 26.4359750154485 27.4742935461665 28.5326120768845 29.6109306076024\n",
      " 30.7092491383204 31.8275676690383 32.9658861997563 34.1242047304742\n",
      " 35.3025232611922 36.5008417919102 37.7191603226281 38.9574788533461\n",
      " 40.2157973840640 41.4941159147820 42.7924344455000 44.1107529762179\n",
      " 45.4490715069359 46.8073900376538 48.1857085683718 49.5840270990898\n",
      " 51.0023456298077 52.4406641605257 53.8989826912436 55.3773012219616\n",
      " 56.8756197526795 58.3939382833975 59.9322568141154 61.4905753448334\n",
      " 63.0688938755514 64.6672124062693 66.2855309369873 67.9238494677052\n",
      " 69.5821679984232 71.2604865291412 72.9588050598591 74.6771235905771\n",
      " 76.4154421212950 78.1737606520130 79.9520791827310 81.7503977134489\n",
      " 83.5687162441669 85.4070347748848 87.2653533056028 89.1436718363208\n",
      " 91.0419903670387 92.9603088977567 94.8986274284746 96.8569459591926\n",
      " 98.8352644899106 100.833583020629 102.851901551346 104.890220082064\n",
      " 106.948538612782 109.026857143500 111.125175674218 113.243494204936\n",
      " 115.381812735654 117.540131266372 119.718449797090 121.916768327808\n",
      " 124.135086858526 126.373405389244 128.631723919962 130.910042450680\n",
      " 133.208360981398 135.526679512116 137.864998042834 140.223316573552\n",
      " 142.601635104270 144.999953634988 147.418272165706 149.856590696424\n",
      " 152.314909227142 154.793227757860 157.291546288578 159.809864819295\n",
      " 162.348183350013 164.906501880731 167.484820411449 170.083138942167]\n"
     ]
    },
    {
     "data": {
      "text/plain": [
       "[<matplotlib.lines.Line2D at 0x7f15ff8e6ac8>]"
      ]
     },
     "execution_count": 30,
     "metadata": {},
     "output_type": "execute_result"
    },
    {
     "data": {
      "image/png": "[encoded data removed]",
      "text/plain": [
       "<matplotlib.figure.Figure at 0x7f15ff8e66d8>"
      ]
     },
     "metadata": {},
     "output_type": "display_data"
    }
   ],
   "source": [
    "print(MyFun_vec)\n",
    "fig, ax = plt.subplots()\n",
    "ax.plot(x_vec, MyFun_vec)"
   ]
  },
  {
   "cell_type": "markdown",
   "metadata": {},
   "source": [
    "A quicker evaluation method, lamdify"
   ]
  },
  {
   "cell_type": "code",
   "execution_count": 33,
   "metadata": {},
   "outputs": [],
   "source": [
    "MyFun_lamb = lambdify([x],MyFun, 'numpy') # first arg is python list of variables\n",
    "# second arg is the function"
   ]
  },
  {
   "cell_type": "markdown",
   "metadata": {},
   "source": [
    "Measure time difference"
   ]
  },
  {
   "cell_type": "code",
   "execution_count": 34,
   "metadata": {
    "scrolled": false
   },
   "outputs": [
    {
     "name": "stdout",
     "output_type": "stream",
     "text": [
      "21.1 ms ± 383 µs per loop (mean ± std. dev. of 7 runs, 10 loops each)\n"
     ]
    }
   ],
   "source": [
    "%%timeit\n",
    "MyFun_vec= sc.array([N(((x+pi)**2).subs(x,xx))for xx in x_vec])"
   ]
  },
  {
   "cell_type": "code",
   "execution_count": 35,
   "metadata": {
    "scrolled": true
   },
   "outputs": [
    {
     "name": "stdout",
     "output_type": "stream",
     "text": [
      "2.72 µs ± 34.5 ns per loop (mean ± std. dev. of 7 runs, 100000 loops each)\n"
     ]
    }
   ],
   "source": [
    "%%timeit\n",
    "MyFun_vec=MyFun_lamb(x_vec)"
   ]
  },
  {
   "cell_type": "markdown",
   "metadata": {},
   "source": [
    "### Algebraic Manipulations\n",
    "One of the main uses of CAS "
   ]
  },
  {
   "cell_type": "code",
   "execution_count": 36,
   "metadata": {},
   "outputs": [
    {
     "data": {
      "image/png": "[encoded data removed]",
      "text/latex": [
       "$$\\left(x + 1\\right) \\left(x + 2\\right) \\left(x + 3\\right)$$"
      ],
      "text/plain": [
       "(x + 1)⋅(x + 2)⋅(x + 3)"
      ]
     },
     "execution_count": 36,
     "metadata": {},
     "output_type": "execute_result"
    }
   ],
   "source": [
    "(x+1)*(x+2)*(x+3)"
   ]
  },
  {
   "cell_type": "code",
   "execution_count": 37,
   "metadata": {
    "scrolled": true
   },
   "outputs": [
    {
     "data": {
      "image/png": "[encoded data removed]",
      "text/latex": [
       "$$x^{3} + 6 x^{2} + 11 x + 6$$"
      ],
      "text/plain": [
       " 3      2           \n",
       "x  + 6⋅x  + 11⋅x + 6"
      ]
     },
     "execution_count": 37,
     "metadata": {},
     "output_type": "execute_result"
    }
   ],
   "source": [
    "expand((x+1)*(x+2)*(x+3))"
   ]
  },
  {
   "cell_type": "markdown",
   "metadata": {},
   "source": [
    "Expand trig functions"
   ]
  },
  {
   "cell_type": "code",
   "execution_count": 38,
   "metadata": {
    "scrolled": true
   },
   "outputs": [
    {
     "data": {
      "image/png": "[encoded data removed]",
      "text/latex": [
       "$$\\sin{\\left (a + b \\right )}$$"
      ],
      "text/plain": [
       "sin(a + b)"
      ]
     },
     "execution_count": 38,
     "metadata": {},
     "output_type": "execute_result"
    }
   ],
   "source": [
    "sin(a+b)"
   ]
  },
  {
   "cell_type": "code",
   "execution_count": 39,
   "metadata": {},
   "outputs": [
    {
     "data": {
      "image/png": "[encoded data removed]",
      "text/latex": [
       "$$\\sin{\\left (a \\right )} \\cos{\\left (b \\right )} + \\sin{\\left (b \\right )} \\cos{\\left (a \\right )}$$"
      ],
      "text/plain": [
       "sin(a)⋅cos(b) + sin(b)⋅cos(a)"
      ]
     },
     "execution_count": 39,
     "metadata": {},
     "output_type": "execute_result"
    }
   ],
   "source": [
    "expand(sin(a+b), trig=True)"
   ]
  },
  {
   "cell_type": "markdown",
   "metadata": {},
   "source": [
    "Factorize too"
   ]
  },
  {
   "cell_type": "code",
   "execution_count": 40,
   "metadata": {},
   "outputs": [
    {
     "data": {
      "image/png": "[encoded data removed]",
      "text/latex": [
       "$$\\left(x + 1\\right) \\left(x + 2\\right) \\left(x + 3\\right)$$"
      ],
      "text/plain": [
       "(x + 1)⋅(x + 2)⋅(x + 3)"
      ]
     },
     "execution_count": 40,
     "metadata": {},
     "output_type": "execute_result"
    }
   ],
   "source": [
    "factor(x**3 + 6*x**2 + 11*x + 6)"
   ]
  },
  {
   "cell_type": "markdown",
   "metadata": {},
   "source": [
    "## Biological examples\n",
    "one population exponential growth\n",
    "Model: $$\\label{eq:exp_growth} \\frac{\\text{d}N}{\\text{d}t} = r_m N $$\n",
    "$r_m$ is the intrinsic, constant rate of population growth (units of 1/time) and $N$ is population size\n",
    "\n",
    "First set up the variables and define N"
   ]
  },
  {
   "cell_type": "code",
   "execution_count": 43,
   "metadata": {
    "scrolled": true
   },
   "outputs": [
    {
     "data": {
      "image/png": "[encoded data removed]",
      "text/latex": [
       "$$- r_{m} N{\\left (t \\right )} + \\frac{d}{d t} N{\\left (t \\right )}$$"
      ],
      "text/plain": [
       "           d       \n",
       "-rₘ⋅N(t) + ──(N(t))\n",
       "           dt      "
      ]
     },
     "execution_count": 43,
     "metadata": {},
     "output_type": "execute_result"
    }
   ],
   "source": [
    "r_m, N, t = var(\"r_m N t\", real = True)\n",
    "N = Function('N')\n",
    "dN_dt = Derivative(N(t),t) - r_m*N(t); dN_dt"
   ]
  },
  {
   "cell_type": "markdown",
   "metadata": {},
   "source": [
    "Note written \\ref{eq: exp_growth} as LHS=RHS. Solve usign dsolve"
   ]
  },
  {
   "cell_type": "code",
   "execution_count": 42,
   "metadata": {
    "scrolled": false
   },
   "outputs": [
    {
     "data": {
      "image/png": "[encoded data removed]",
      "text/latex": [
       "$$N{\\left (t \\right )} = C_{1} e^{r_{m} t}$$"
      ],
      "text/plain": [
       "           rₘ⋅t\n",
       "N(t) = C₁⋅ℯ    "
      ]
     },
     "execution_count": 42,
     "metadata": {},
     "output_type": "execute_result"
    }
   ],
   "source": [
    "MyEq_sol = dsolve(dN_dt) ; MyEq_sol"
   ]
  },
  {
   "cell_type": "markdown",
   "metadata": {},
   "source": [
    "Use fixed points to solve constants"
   ]
  },
  {
   "cell_type": "markdown",
   "metadata": {},
   "source": [
    "# Data manipulation and analysis\n",
    "## Using Pandas"
   ]
  },
  {
   "cell_type": "code",
   "execution_count": 46,
   "metadata": {},
   "outputs": [
    {
     "data": {
      "text/plain": [
       "'0.20.3'"
      ]
     },
     "execution_count": 46,
     "metadata": {},
     "output_type": "execute_result"
    }
   ],
   "source": [
    "import pandas as pd\n",
    "import scipy as sc # also needed for this chapter\n",
    "pd.__version__"
   ]
  },
  {
   "cell_type": "code",
   "execution_count": 48,
   "metadata": {
    "scrolled": true
   },
   "outputs": [
    {
     "data": {
      "text/html": [
       "<div>\n",
       "<style>\n",
       "    .dataframe thead tr:only-child th {\n",
       "        text-align: right;\n",
       "    }\n",
       "\n",
       "    .dataframe thead th {\n",
       "        text-align: left;\n",
       "    }\n",
       "\n",
       "    .dataframe tbody tr th {\n",
       "        vertical-align: top;\n",
       "    }\n",
       "</style>\n",
       "<table border=\"1\" class=\"dataframe\">\n",
       "  <thead>\n",
       "    <tr style=\"text-align: right;\">\n",
       "      <th></th>\n",
       "      <th>Species</th>\n",
       "      <th>Infraorder</th>\n",
       "      <th>Family</th>\n",
       "      <th>Distribution</th>\n",
       "      <th>Body mass male (Kg)</th>\n",
       "    </tr>\n",
       "  </thead>\n",
       "  <tbody>\n",
       "    <tr>\n",
       "      <th>0</th>\n",
       "      <td>Daubentonia_madagascariensis</td>\n",
       "      <td>Chiromyiformes</td>\n",
       "      <td>Daubentoniidae</td>\n",
       "      <td>Madagascar</td>\n",
       "      <td>2.700</td>\n",
       "    </tr>\n",
       "    <tr>\n",
       "      <th>1</th>\n",
       "      <td>Allocebus_trichotis</td>\n",
       "      <td>Lemuriformes</td>\n",
       "      <td>Cheirogaleidae</td>\n",
       "      <td>Madagascar</td>\n",
       "      <td>0.100</td>\n",
       "    </tr>\n",
       "    <tr>\n",
       "      <th>2</th>\n",
       "      <td>Avahi_laniger</td>\n",
       "      <td>Lemuriformes</td>\n",
       "      <td>Indridae</td>\n",
       "      <td>America</td>\n",
       "      <td>1.030</td>\n",
       "    </tr>\n",
       "    <tr>\n",
       "      <th>3</th>\n",
       "      <td>Avahi_occidentalis</td>\n",
       "      <td>Lemuriformes</td>\n",
       "      <td>Indridae</td>\n",
       "      <td>Madagascar</td>\n",
       "      <td>0.814</td>\n",
       "    </tr>\n",
       "    <tr>\n",
       "      <th>4</th>\n",
       "      <td>Avahi_unicolor</td>\n",
       "      <td>Lemuriformes</td>\n",
       "      <td>Indridae</td>\n",
       "      <td>America</td>\n",
       "      <td>0.830</td>\n",
       "    </tr>\n",
       "    <tr>\n",
       "      <th>5</th>\n",
       "      <td>Cheirogaleus_adipicaudatus</td>\n",
       "      <td>Lemuriformes</td>\n",
       "      <td>Cheirogaleidae</td>\n",
       "      <td>Madagascar</td>\n",
       "      <td>0.200</td>\n",
       "    </tr>\n",
       "    <tr>\n",
       "      <th>6</th>\n",
       "      <td>Cheirogaleus_crossleyi</td>\n",
       "      <td>Lemuriformes</td>\n",
       "      <td>Cheirogaleidae</td>\n",
       "      <td>Madagascar</td>\n",
       "      <td>0.400</td>\n",
       "    </tr>\n",
       "    <tr>\n",
       "      <th>7</th>\n",
       "      <td>Cheirogaleus_major</td>\n",
       "      <td>Lemuriformes</td>\n",
       "      <td>Cheirogaleidae</td>\n",
       "      <td>Madagascar</td>\n",
       "      <td>0.450</td>\n",
       "    </tr>\n",
       "    <tr>\n",
       "      <th>8</th>\n",
       "      <td>Cheirogaleus_medius</td>\n",
       "      <td>Lemuriformes</td>\n",
       "      <td>Cheirogaleidae</td>\n",
       "      <td>Madagascar</td>\n",
       "      <td>0.217</td>\n",
       "    </tr>\n",
       "  </tbody>\n",
       "</table>\n",
       "</div>"
      ],
      "text/plain": [
       "                        Species       Infraorder          Family Distribution  \\\n",
       "0  Daubentonia_madagascariensis  Chiromyiformes   Daubentoniidae   Madagascar   \n",
       "1           Allocebus_trichotis     Lemuriformes  Cheirogaleidae   Madagascar   \n",
       "2                 Avahi_laniger     Lemuriformes        Indridae      America   \n",
       "3            Avahi_occidentalis     Lemuriformes        Indridae   Madagascar   \n",
       "4                Avahi_unicolor     Lemuriformes        Indridae      America   \n",
       "5    Cheirogaleus_adipicaudatus     Lemuriformes  Cheirogaleidae   Madagascar   \n",
       "6        Cheirogaleus_crossleyi     Lemuriformes  Cheirogaleidae   Madagascar   \n",
       "7            Cheirogaleus_major     Lemuriformes  Cheirogaleidae   Madagascar   \n",
       "8           Cheirogaleus_medius     Lemuriformes  Cheirogaleidae   Madagascar   \n",
       "\n",
       "   Body mass male (Kg)  \n",
       "0                2.700  \n",
       "1                0.100  \n",
       "2                1.030  \n",
       "3                0.814  \n",
       "4                0.830  \n",
       "5                0.200  \n",
       "6                0.400  \n",
       "7                0.450  \n",
       "8                0.217  "
      ]
     },
     "execution_count": 48,
     "metadata": {},
     "output_type": "execute_result"
    }
   ],
   "source": [
    "# Importing data\n",
    "MyDF = pd.read_csv('../../Week2/Data/testcsv.csv', sep=',')\n",
    "MyDF"
   ]
  },
  {
   "cell_type": "code",
   "execution_count": 50,
   "metadata": {},
   "outputs": [
    {
     "data": {
      "text/html": [
       "<div>\n",
       "<style>\n",
       "    .dataframe thead tr:only-child th {\n",
       "        text-align: right;\n",
       "    }\n",
       "\n",
       "    .dataframe thead th {\n",
       "        text-align: left;\n",
       "    }\n",
       "\n",
       "    .dataframe tbody tr th {\n",
       "        vertical-align: top;\n",
       "    }\n",
       "</style>\n",
       "<table border=\"1\" class=\"dataframe\">\n",
       "  <thead>\n",
       "    <tr style=\"text-align: right;\">\n",
       "      <th></th>\n",
       "      <th>col1</th>\n",
       "      <th>col2</th>\n",
       "      <th>col3</th>\n",
       "    </tr>\n",
       "  </thead>\n",
       "  <tbody>\n",
       "    <tr>\n",
       "      <th>0</th>\n",
       "      <td>Var1</td>\n",
       "      <td>Grass</td>\n",
       "      <td>1.0</td>\n",
       "    </tr>\n",
       "    <tr>\n",
       "      <th>1</th>\n",
       "      <td>Var2</td>\n",
       "      <td>Rabbit</td>\n",
       "      <td>2.0</td>\n",
       "    </tr>\n",
       "    <tr>\n",
       "      <th>2</th>\n",
       "      <td>Var3</td>\n",
       "      <td>Fox</td>\n",
       "      <td>NaN</td>\n",
       "    </tr>\n",
       "    <tr>\n",
       "      <th>3</th>\n",
       "      <td>Var4</td>\n",
       "      <td>Wolf</td>\n",
       "      <td>4.0</td>\n",
       "    </tr>\n",
       "  </tbody>\n",
       "</table>\n",
       "</div>"
      ],
      "text/plain": [
       "   col1    col2  col3\n",
       "0  Var1   Grass   1.0\n",
       "1  Var2  Rabbit   2.0\n",
       "2  Var3     Fox   NaN\n",
       "3  Var4    Wolf   4.0"
      ]
     },
     "execution_count": 50,
     "metadata": {},
     "output_type": "execute_result"
    }
   ],
   "source": [
    "# Creating a dataframe\n",
    "MyDF= pd.DataFrame({\n",
    "    'col1': ['Var1', 'Var2', 'Var3', 'Var4'],\n",
    "    'col2': ['Grass', 'Rabbit', 'Fox', 'Wolf'],\n",
    "    'col3': [1, 2, sc.nan, 4]\n",
    "})\n",
    "\n",
    "MyDF"
   ]
  },
  {
   "cell_type": "markdown",
   "metadata": {},
   "source": [
    "Explore data"
   ]
  },
  {
   "cell_type": "code",
   "execution_count": 60,
   "metadata": {
    "scrolled": true
   },
   "outputs": [
    {
     "name": "stdout",
     "output_type": "stream",
     "text": [
      "   col1    col2  col3\n",
      "0  Var1   Grass   1.0\n",
      "1  Var2  Rabbit   2.0\n",
      "2  Var3     Fox   NaN\n",
      "3  Var4    Wolf   4.0\n",
      "   col1    col2  col3\n",
      "0  Var1   Grass   1.0\n",
      "1  Var2  Rabbit   2.0\n",
      "2  Var3     Fox   NaN\n",
      "3  Var4    Wolf   4.0\n",
      "(4, 3)\n",
      "4\n",
      "Index(['col1', 'col2', 'col3'], dtype='object')\n",
      "col1     object\n",
      "col2     object\n",
      "col3    float64\n",
      "dtype: object\n"
     ]
    }
   ],
   "source": [
    "print(MyDF.head())\n",
    "print(MyDF.tail())\n",
    "print(MyDF.shape)\n",
    "print(len(MyDF))\n",
    "print(MyDF.columns) # Column names\n",
    "print(MyDF.dtypes) # Columns and types\n"
   ]
  },
  {
   "cell_type": "code",
   "execution_count": 59,
   "metadata": {
    "scrolled": false
   },
   "outputs": [
    {
     "data": {
      "text/plain": [
       "array([['Var1', 'Grass', 1.0],\n",
       "       ['Var2', 'Rabbit', 2.0],\n",
       "       ['Var3', 'Fox', nan],\n",
       "       ['Var4', 'Wolf', 4.0]], dtype=object)"
      ]
     },
     "execution_count": 59,
     "metadata": {},
     "output_type": "execute_result"
    }
   ],
   "source": [
    "MyDF.values # Converts from to 2D table\n"
   ]
  },
  {
   "cell_type": "code",
   "execution_count": 57,
   "metadata": {},
   "outputs": [
    {
     "data": {
      "text/html": [
       "<div>\n",
       "<style>\n",
       "    .dataframe thead tr:only-child th {\n",
       "        text-align: right;\n",
       "    }\n",
       "\n",
       "    .dataframe thead th {\n",
       "        text-align: left;\n",
       "    }\n",
       "\n",
       "    .dataframe tbody tr th {\n",
       "        vertical-align: top;\n",
       "    }\n",
       "</style>\n",
       "<table border=\"1\" class=\"dataframe\">\n",
       "  <thead>\n",
       "    <tr style=\"text-align: right;\">\n",
       "      <th></th>\n",
       "      <th>col3</th>\n",
       "    </tr>\n",
       "  </thead>\n",
       "  <tbody>\n",
       "    <tr>\n",
       "      <th>count</th>\n",
       "      <td>3.000000</td>\n",
       "    </tr>\n",
       "    <tr>\n",
       "      <th>mean</th>\n",
       "      <td>2.333333</td>\n",
       "    </tr>\n",
       "    <tr>\n",
       "      <th>std</th>\n",
       "      <td>1.527525</td>\n",
       "    </tr>\n",
       "    <tr>\n",
       "      <th>min</th>\n",
       "      <td>1.000000</td>\n",
       "    </tr>\n",
       "    <tr>\n",
       "      <th>25%</th>\n",
       "      <td>1.500000</td>\n",
       "    </tr>\n",
       "    <tr>\n",
       "      <th>50%</th>\n",
       "      <td>2.000000</td>\n",
       "    </tr>\n",
       "    <tr>\n",
       "      <th>75%</th>\n",
       "      <td>3.000000</td>\n",
       "    </tr>\n",
       "    <tr>\n",
       "      <th>max</th>\n",
       "      <td>4.000000</td>\n",
       "    </tr>\n",
       "  </tbody>\n",
       "</table>\n",
       "</div>"
      ],
      "text/plain": [
       "           col3\n",
       "count  3.000000\n",
       "mean   2.333333\n",
       "std    1.527525\n",
       "min    1.000000\n",
       "25%    1.500000\n",
       "50%    2.000000\n",
       "75%    3.000000\n",
       "max    4.000000"
      ]
     },
     "execution_count": 57,
     "metadata": {},
     "output_type": "execute_result"
    }
   ],
   "source": [
    "MyDF.describe()"
   ]
  }
 ],
 "metadata": {
  "kernelspec": {
   "display_name": "Python 3",
   "language": "python",
   "name": "python3"
  },
  "language_info": {
   "codemirror_mode": {
    "name": "ipython",
    "version": 3
   },
   "file_extension": ".py",
   "mimetype": "text/x-python",
   "name": "python",
   "nbconvert_exporter": "python",
   "pygments_lexer": "ipython3",
   "version": "3.6.3"
  },
  "latex_envs": {
   "LaTeX_envs_menu_present": true,
   "autocomplete": true,
   "bibliofile": "biblio.bib",
   "cite_by": "apalike",
   "current_citInitial": 1,
   "eqLabelWithNumbers": true,
   "eqNumInitial": 1,
   "hotkeys": {
    "equation": "Ctrl-E",
    "itemize": "Ctrl-I"
   },
   "labels_anchors": false,
   "latex_user_defs": false,
   "report_style_numbering": false,
   "user_envs_cfg": false
  }
 },
 "nbformat": 4,
 "nbformat_minor": 2
}
